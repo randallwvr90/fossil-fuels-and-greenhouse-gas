{
 "cells": [
  {
   "attachments": {},
   "cell_type": "markdown",
   "metadata": {},
   "source": [
    "# add_IEA_data.ipynb\n",
    "This notebook will be used to import \n",
    "[International Energy Agency](https://www.iea.org/) (IEA) global energy data and\n",
    "add it to the existing PostgreSQL DB co2emission_db."
   ]
  },
  {
   "cell_type": "code",
   "execution_count": 2,
   "metadata": {},
   "outputs": [],
   "source": [
    "from sqlalchemy import create_engine, func,ForeignKey\n",
    "import pandas as pd\n",
    "import numpy as np\n",
    "\n",
    "# Get PostgreSQL database access information stored in postgres_key.py\n",
    "from postgres_key import DB_USER,DB_KEY,DB_NAME"
   ]
  },
  {
   "attachments": {},
   "cell_type": "markdown",
   "metadata": {},
   "source": [
    "## Data Sources\n",
    "There are several .csv files containing publicly available fossil fuel and other\n",
    "global energy data from the IEA. A table of filenames and links follows:\n",
    "| file name                                            | Source |\n",
    "| -----------                                          | ----------- |\n",
    "| oecd-total-energy-supply-by-region-1971-2020.csv     | [IEC Energy by Region Data](https://www.iea.org/data-and-statistics/charts/oecd-total-energy-supply-by-region-1971-2020) |\n",
    "| oecd-total-energy-supply-by-source-1971-2020.csv     | [IEC Energy by Source Data](https://www.iea.org/data-and-statistics/charts/oecd-total-energy-supply-by-source-1971-2020) |\n",
    "| world-coal-consumption-1978-2020.csv                 | [IEC Coal Consumption Data](https://www.iea.org/data-and-statistics/charts/world-coal-consumption-1978-2020) |\n",
    "| world-coal-production-by-region-1971-2020.csv        | [IEC Coal Production by Region Data](https://www.iea.org/data-and-statistics/charts/world-coal-production-by-region-1971-2020) |\n",
    "| world-crude-oil-production-by-region-1971-2020.csv   | [IEC Crude Oil Production by Region Data](https://www.iea.org/data-and-statistics/charts/world-crude-oil-production-by-region-1971-2020) |\n",
    "| world-natural-gas-production-by-region-1971-2020.csv | [IEC Natural Gas Production by Region Data](https://www.iea.org/data-and-statistics/charts/world-natural-gas-production-by-region-1971-2020) |\n",
    "| world-oil-production-by-region-1971-2020.csv         | [IEC Oil Production by Region Data](https://www.iea.org/data-and-statistics/charts/world-oil-production-by-region-1971-2020) |\n",
    "| world-oil-supply-and-demand-1971-2020.csv            | [IEC Oil Supply and Demand Data](https://www.iea.org/data-and-statistics/charts/world-oil-supply-and-demand-1971-2020) |\n",
    "| world-total-coal-production-1971-2020.csv            | [IEC World Total Coal Production Data](https://www.iea.org/data-and-statistics/charts/world-total-coal-production-1971-2020) |"
   ]
  },
  {
   "cell_type": "code",
   "execution_count": null,
   "metadata": {},
   "outputs": [],
   "source": []
  }
 ],
 "metadata": {
  "kernelspec": {
   "display_name": "energy_proj_env",
   "language": "python",
   "name": "python3"
  },
  "language_info": {
   "codemirror_mode": {
    "name": "ipython",
    "version": 3
   },
   "file_extension": ".py",
   "mimetype": "text/x-python",
   "name": "python",
   "nbconvert_exporter": "python",
   "pygments_lexer": "ipython3",
   "version": "3.10.9"
  },
  "orig_nbformat": 4
 },
 "nbformat": 4,
 "nbformat_minor": 2
}
